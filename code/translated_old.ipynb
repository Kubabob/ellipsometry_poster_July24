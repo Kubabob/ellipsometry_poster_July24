{
 "cells": [
  {
   "cell_type": "code",
   "execution_count": 1,
   "metadata": {},
   "outputs": [],
   "source": [
    "%gui qt6\n",
    "import pandas as pd\n",
    "import numpy as np\n",
    "import pyqtgraph as pg\n",
    "import PyQt6 as p6\n",
    "import os\n",
    "pd.options.mode.chained_assignment = None"
   ]
  },
  {
   "cell_type": "code",
   "execution_count": 2,
   "metadata": {},
   "outputs": [],
   "source": [
    "Si_nk = pd.read_csv('../resources/Si_nk.txt', sep='\\t').drop('Unnamed: 3', axis=1)"
   ]
  },
  {
   "cell_type": "code",
   "execution_count": 3,
   "metadata": {},
   "outputs": [
    {
     "data": {
      "text/html": [
       "<div>\n",
       "<style scoped>\n",
       "    .dataframe tbody tr th:only-of-type {\n",
       "        vertical-align: middle;\n",
       "    }\n",
       "\n",
       "    .dataframe tbody tr th {\n",
       "        vertical-align: top;\n",
       "    }\n",
       "\n",
       "    .dataframe thead th {\n",
       "        text-align: right;\n",
       "    }\n",
       "</style>\n",
       "<table border=\"1\" class=\"dataframe\">\n",
       "  <thead>\n",
       "    <tr style=\"text-align: right;\">\n",
       "      <th></th>\n",
       "      <th>wvl</th>\n",
       "      <th>n</th>\n",
       "      <th>k</th>\n",
       "    </tr>\n",
       "  </thead>\n",
       "  <tbody>\n",
       "    <tr>\n",
       "      <th>0</th>\n",
       "      <td>0.250</td>\n",
       "      <td>1.66361</td>\n",
       "      <td>3.662700</td>\n",
       "    </tr>\n",
       "    <tr>\n",
       "      <th>1</th>\n",
       "      <td>0.255</td>\n",
       "      <td>1.69017</td>\n",
       "      <td>3.848640</td>\n",
       "    </tr>\n",
       "    <tr>\n",
       "      <th>2</th>\n",
       "      <td>0.260</td>\n",
       "      <td>1.75387</td>\n",
       "      <td>4.087200</td>\n",
       "    </tr>\n",
       "    <tr>\n",
       "      <th>3</th>\n",
       "      <td>0.265</td>\n",
       "      <td>1.87822</td>\n",
       "      <td>4.372220</td>\n",
       "    </tr>\n",
       "    <tr>\n",
       "      <th>4</th>\n",
       "      <td>0.270</td>\n",
       "      <td>2.08515</td>\n",
       "      <td>4.695810</td>\n",
       "    </tr>\n",
       "    <tr>\n",
       "      <th>...</th>\n",
       "      <td>...</td>\n",
       "      <td>...</td>\n",
       "      <td>...</td>\n",
       "    </tr>\n",
       "    <tr>\n",
       "      <th>146</th>\n",
       "      <td>0.980</td>\n",
       "      <td>3.58348</td>\n",
       "      <td>0.000520</td>\n",
       "    </tr>\n",
       "    <tr>\n",
       "      <th>147</th>\n",
       "      <td>0.985</td>\n",
       "      <td>3.58162</td>\n",
       "      <td>0.000479</td>\n",
       "    </tr>\n",
       "    <tr>\n",
       "      <th>148</th>\n",
       "      <td>0.990</td>\n",
       "      <td>3.57980</td>\n",
       "      <td>0.000441</td>\n",
       "    </tr>\n",
       "    <tr>\n",
       "      <th>149</th>\n",
       "      <td>0.995</td>\n",
       "      <td>3.57801</td>\n",
       "      <td>0.000405</td>\n",
       "    </tr>\n",
       "    <tr>\n",
       "      <th>150</th>\n",
       "      <td>1.000</td>\n",
       "      <td>3.57624</td>\n",
       "      <td>0.000370</td>\n",
       "    </tr>\n",
       "  </tbody>\n",
       "</table>\n",
       "<p>151 rows × 3 columns</p>\n",
       "</div>"
      ],
      "text/plain": [
       "       wvl        n         k\n",
       "0    0.250  1.66361  3.662700\n",
       "1    0.255  1.69017  3.848640\n",
       "2    0.260  1.75387  4.087200\n",
       "3    0.265  1.87822  4.372220\n",
       "4    0.270  2.08515  4.695810\n",
       "..     ...      ...       ...\n",
       "146  0.980  3.58348  0.000520\n",
       "147  0.985  3.58162  0.000479\n",
       "148  0.990  3.57980  0.000441\n",
       "149  0.995  3.57801  0.000405\n",
       "150  1.000  3.57624  0.000370\n",
       "\n",
       "[151 rows x 3 columns]"
      ]
     },
     "execution_count": 3,
     "metadata": {},
     "output_type": "execute_result"
    }
   ],
   "source": [
    "Si_nk"
   ]
  },
  {
   "cell_type": "code",
   "execution_count": 4,
   "metadata": {},
   "outputs": [],
   "source": [
    "def read_completeEASE(file):\n",
    "    df = pd.read_csv(file, sep='\\t', header=None)[::-1].reset_index(drop=True)\n",
    "    return df\n",
    "\n",
    "def normalize_data(df):\n",
    "    _df = df.copy(deep=True)\n",
    "    _df.loc[:,1][_df.loc[:,1]<0] = _df.loc[:,1] + 360\n",
    "    _df.loc[:,2][_df.loc[:,2]<0] = _df.loc[:,2] + 360\n",
    "    return _df"
   ]
  },
  {
   "cell_type": "code",
   "execution_count": null,
   "metadata": {},
   "outputs": [],
   "source": [
    "Si_psi_delta_60 = normalize_data(read_completeEASE(os.path.join('..', 'resources', 'Si_psi_delta_60ang.csv')))"
   ]
  },
  {
   "cell_type": "code",
   "execution_count": 13,
   "metadata": {},
   "outputs": [],
   "source": [
    "def Snells_law(ni, nt, thetai):\n",
    "    thetat = np.arcsin(ni/nt * np.sin(thetai))\n",
    "    return thetat\n",
    "\n",
    "def rp(ni, nt, thetai):\n",
    "    thetat = Snells_law(ni, nt, thetai)\n",
    "    return (nt*np.cos(thetai) - ni*np.cos(thetat))/(nt*np.cos(thetai) + ni*np.cos(thetat))\n",
    "\n",
    "def rs(ni, nt, thetai):\n",
    "    thetat = Snells_law(ni, nt, thetai)\n",
    "    return (ni*np.cos(thetai) - nt*np.cos(thetat))/(ni*np.cos(thetai) + nt*np.cos(thetat))\n",
    "\n",
    "def eV_to_um(eV):\n",
    "    return 1239.8/eV\n",
    "\n",
    "def um_to_eV(um):\n",
    "    return 1239.8/um"
   ]
  },
  {
   "cell_type": "code",
   "execution_count": 15,
   "metadata": {},
   "outputs": [],
   "source": [
    "def nk_plot(wvl, n, k):\n",
    "    plt = pg.plot()\n",
    "    plt.showGrid(x=True, y=True)\n",
    "    plt.addLegend()\n",
    "    plt.plot(wvl, n, pen=pg.mkPen('red', width=1.5), name='n')\n",
    "    plt.plot(wvl, k, pen=pg.mkPen('blue', width=1.5), name='k')\n",
    "    plt.setLabel('bottom', 'Wavelength', units='μm')\n",
    "    plt.setWindowTitle('Reflectance plot')\n",
    "    plt.setBackground('w')\n",
    "\n",
    "def reflectance_plot(ni, nt, squared: bool = True, degrees: bool = True):\n",
    "    plt = pg.plot()\n",
    "    angle_space = np.radians(np.arange(0,90.1, 0.1))\n",
    "    plt.showGrid(x=True, y=True)\n",
    "    plt.addLegend()\n",
    "    r_p = rp(ni, nt, angle_space)\n",
    "    r_s = rs(ni, nt, angle_space)\n",
    "    brewster_angle_x = angle_space[np.argmin(rp(ni, nt, angle_space)**2)]\n",
    "\n",
    "    if degrees:\n",
    "        angle_label = np.rad2deg(angle_space)\n",
    "        brewster_angle_x = np.rad2deg(brewster_angle_x)\n",
    "        plt.setLabel('bottom', 'Degrees', units='°')\n",
    "    else:\n",
    "        angle_label = angle_space\n",
    "        plt.setLabel('bottom', 'Radians')\n",
    "\n",
    "    if squared:\n",
    "        plt.plot(angle_label, r_p**2, pen=pg.mkPen('red', width=1.5), name='R_p')\n",
    "        plt.plot(angle_label, r_s**2, pen=pg.mkPen('blue', width=1.5), name='R_s')\n",
    "    else:\n",
    "        plt.plot(angle_label, r_p, pen=pg.mkPen('red', width=1.5), name='r_p')\n",
    "        plt.plot(angle_label, r_s, pen=pg.mkPen('blue', width=1.5), name='r_s')\n",
    "\n",
    "    annotation = pg.TextItem(f'{brewster_angle_x.round(2)}', color='red')\n",
    "    annotation.setPos(brewster_angle_x,-0.01)\n",
    "    annotation_dot = pg.ScatterPlotItem(size=5, brush='black')\n",
    "    annotation_dot.addPoints([{'pos': [brewster_angle_x,0]}])\n",
    "    plt.addItem(annotation_dot)\n",
    "    plt.addItem(annotation)\n",
    "    plt.setWindowTitle('Reflectance plot')\n",
    "    plt.setBackground('w')\n",
    "\n",
    "\n",
    "def psi_delta_plot(wvl, psi, delta):\n",
    "    plt = pg.plot()\n",
    "    plt.showGrid(x=True, y=True)\n",
    "    plt.addLegend()\n",
    "    plt.plot(wvl, psi, pen=pg.mkPen('red', width=1.5), name='<font>&Psi;</font>')\n",
    "    plt.plot(wvl, delta, pen=pg.mkPen('blue', width=1.5), name='<font>&Delta;</font>')\n",
    "    plt.setLabel('bottom', 'Wavelength', units='μm')\n",
    "    plt.setWindowTitle('Psi Delta plot')\n",
    "    plt.setBackground('w')\n",
    "\n"
   ]
  },
  {
   "cell_type": "code",
   "execution_count": 16,
   "metadata": {},
   "outputs": [],
   "source": [
    "nk_plot(Si_nk['wvl'], Si_nk['n'], Si_nk['k'])"
   ]
  },
  {
   "cell_type": "code",
   "execution_count": 17,
   "metadata": {},
   "outputs": [],
   "source": [
    "reflectance_plot(1, Si_nk['n'].iloc[51])"
   ]
  },
  {
   "cell_type": "code",
   "execution_count": 18,
   "metadata": {},
   "outputs": [],
   "source": [
    "psi_delta_plot(Si_psi_delta_60.iloc[:,0], Si_psi_delta_60.iloc[:,1], Si_psi_delta_60.iloc[:,2])"
   ]
  },
  {
   "cell_type": "code",
   "execution_count": null,
   "metadata": {},
   "outputs": [],
   "source": [
    "import pyqtgraph.examples \n",
    "  \n",
    "# run this examples \n",
    "pyqtgraph.examples.run() "
   ]
  }
 ],
 "metadata": {
  "kernelspec": {
   "display_name": "Python 3",
   "language": "python",
   "name": "python3"
  },
  "language_info": {
   "codemirror_mode": {
    "name": "ipython",
    "version": 3
   },
   "file_extension": ".py",
   "mimetype": "text/x-python",
   "name": "python",
   "nbconvert_exporter": "python",
   "pygments_lexer": "ipython3",
   "version": "3.12.4"
  }
 },
 "nbformat": 4,
 "nbformat_minor": 2
}
