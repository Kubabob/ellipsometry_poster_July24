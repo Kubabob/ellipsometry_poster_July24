{
 "cells": [
  {
   "cell_type": "code",
   "execution_count": 1,
   "metadata": {},
   "outputs": [
    {
     "data": {
      "text/plain": [
       "{'divide': 'warn', 'over': 'warn', 'under': 'ignore', 'invalid': 'warn'}"
      ]
     },
     "execution_count": 1,
     "metadata": {},
     "output_type": "execute_result"
    }
   ],
   "source": [
    "%gui qt6\n",
    "import numpy as np\n",
    "import pandas as pd\n",
    "import os\n",
    "import usabilities as us\n",
    "import formulas as form\n",
    "import visualisation as visual\n",
    "np.seterr(all='ignore')"
   ]
  },
  {
   "cell_type": "code",
   "execution_count": 6,
   "metadata": {},
   "outputs": [
    {
     "data": {
      "text/html": [
       "<div>\n",
       "<style scoped>\n",
       "    .dataframe tbody tr th:only-of-type {\n",
       "        vertical-align: middle;\n",
       "    }\n",
       "\n",
       "    .dataframe tbody tr th {\n",
       "        vertical-align: top;\n",
       "    }\n",
       "\n",
       "    .dataframe thead th {\n",
       "        text-align: right;\n",
       "    }\n",
       "</style>\n",
       "<table border=\"1\" class=\"dataframe\">\n",
       "  <thead>\n",
       "    <tr style=\"text-align: right;\">\n",
       "      <th></th>\n",
       "      <th>um</th>\n",
       "      <th>n</th>\n",
       "      <th>k</th>\n",
       "    </tr>\n",
       "  </thead>\n",
       "  <tbody>\n",
       "    <tr>\n",
       "      <th>0</th>\n",
       "      <td>0.250</td>\n",
       "      <td>1.513525</td>\n",
       "      <td>0.0</td>\n",
       "    </tr>\n",
       "    <tr>\n",
       "      <th>1</th>\n",
       "      <td>0.255</td>\n",
       "      <td>1.510877</td>\n",
       "      <td>0.0</td>\n",
       "    </tr>\n",
       "    <tr>\n",
       "      <th>2</th>\n",
       "      <td>0.260</td>\n",
       "      <td>1.508413</td>\n",
       "      <td>0.0</td>\n",
       "    </tr>\n",
       "    <tr>\n",
       "      <th>3</th>\n",
       "      <td>0.265</td>\n",
       "      <td>1.506117</td>\n",
       "      <td>0.0</td>\n",
       "    </tr>\n",
       "    <tr>\n",
       "      <th>4</th>\n",
       "      <td>0.270</td>\n",
       "      <td>1.503972</td>\n",
       "      <td>0.0</td>\n",
       "    </tr>\n",
       "  </tbody>\n",
       "</table>\n",
       "</div>"
      ],
      "text/plain": [
       "      um         n    k\n",
       "0  0.250  1.513525  0.0\n",
       "1  0.255  1.510877  0.0\n",
       "2  0.260  1.508413  0.0\n",
       "3  0.265  1.506117  0.0\n",
       "4  0.270  1.503972  0.0"
      ]
     },
     "execution_count": 6,
     "metadata": {},
     "output_type": "execute_result"
    }
   ],
   "source": [
    "SiO2 = pd.read_csv(\n",
    "    filepath_or_buffer=os.path.join('..', 'resources', 'SiO2_nk.csv'), \n",
    "    sep='\\t',\n",
    "    header=1,\n",
    "    index_col=3).reset_index(drop=True)\n",
    "SiO2.head()"
   ]
  },
  {
   "cell_type": "code",
   "execution_count": 8,
   "metadata": {},
   "outputs": [
    {
     "data": {
      "text/plain": [
       "(array([1.45260948e+00, 3.70987731e-03, 1.87993270e-06]),\n",
       " 0.00040252273881933155)"
      ]
     },
     "execution_count": 8,
     "metadata": {},
     "output_type": "execute_result"
    }
   ],
   "source": [
    "SiO2_params, SiO2_loss = us.fit_OC(\n",
    "    x=SiO2['um'],\n",
    "    y=SiO2['n'],\n",
    "    functions=[form.cauchy],\n",
    "    functions_parameters_number=[3],\n",
    "    bounds=[(1.3,1.55), (1e-5,0.1), (1e-7,0.1)]\n",
    ")\n",
    "SiO2_params, SiO2_loss"
   ]
  },
  {
   "cell_type": "code",
   "execution_count": 9,
   "metadata": {},
   "outputs": [],
   "source": [
    "visual.nk_plot(\n",
    "    wavelength=SiO2['um'],\n",
    "    n=SiO2['n']\n",
    ")"
   ]
  },
  {
   "cell_type": "code",
   "execution_count": 10,
   "metadata": {},
   "outputs": [],
   "source": [
    "visual.compare_results(\n",
    "    x_space=SiO2['um'],\n",
    "    y_pred=form.cauchy(\n",
    "        parameters=SiO2_params,\n",
    "        wavelength=SiO2['um']),\n",
    "    y_true=SiO2['n']\n",
    ")"
   ]
  },
  {
   "cell_type": "code",
   "execution_count": 14,
   "metadata": {},
   "outputs": [
    {
     "data": {
      "text/html": [
       "<div>\n",
       "<style scoped>\n",
       "    .dataframe tbody tr th:only-of-type {\n",
       "        vertical-align: middle;\n",
       "    }\n",
       "\n",
       "    .dataframe tbody tr th {\n",
       "        vertical-align: top;\n",
       "    }\n",
       "\n",
       "    .dataframe thead th {\n",
       "        text-align: right;\n",
       "    }\n",
       "</style>\n",
       "<table border=\"1\" class=\"dataframe\">\n",
       "  <thead>\n",
       "    <tr style=\"text-align: right;\">\n",
       "      <th></th>\n",
       "      <th>eV</th>\n",
       "      <th>e1</th>\n",
       "      <th>e2</th>\n",
       "    </tr>\n",
       "  </thead>\n",
       "  <tbody>\n",
       "    <tr>\n",
       "      <th>0</th>\n",
       "      <td>4.960000</td>\n",
       "      <td>-10.647780</td>\n",
       "      <td>12.186640</td>\n",
       "    </tr>\n",
       "    <tr>\n",
       "      <th>1</th>\n",
       "      <td>4.862745</td>\n",
       "      <td>-11.955365</td>\n",
       "      <td>13.009671</td>\n",
       "    </tr>\n",
       "    <tr>\n",
       "      <th>2</th>\n",
       "      <td>4.769231</td>\n",
       "      <td>-13.629112</td>\n",
       "      <td>14.336851</td>\n",
       "    </tr>\n",
       "    <tr>\n",
       "      <th>3</th>\n",
       "      <td>4.679246</td>\n",
       "      <td>-15.588576</td>\n",
       "      <td>16.423994</td>\n",
       "    </tr>\n",
       "    <tr>\n",
       "      <th>4</th>\n",
       "      <td>4.592593</td>\n",
       "      <td>-17.702778</td>\n",
       "      <td>19.582952</td>\n",
       "    </tr>\n",
       "  </tbody>\n",
       "</table>\n",
       "</div>"
      ],
      "text/plain": [
       "         eV         e1         e2\n",
       "0  4.960000 -10.647780  12.186640\n",
       "1  4.862745 -11.955365  13.009671\n",
       "2  4.769231 -13.629112  14.336851\n",
       "3  4.679246 -15.588576  16.423994\n",
       "4  4.592593 -17.702778  19.582952"
      ]
     },
     "execution_count": 14,
     "metadata": {},
     "output_type": "execute_result"
    }
   ],
   "source": [
    "Si = pd.read_csv(\n",
    "    filepath_or_buffer=os.path.join('..', 'resources', 'Si_e.csv'), \n",
    "    sep='\\t', \n",
    "    header=1,\n",
    "    index_col=3).reset_index(drop=True)\n",
    "Si.head()"
   ]
  },
  {
   "cell_type": "code",
   "execution_count": 12,
   "metadata": {},
   "outputs": [],
   "source": [
    "Si_params, Si_loss = us.fit_OC(\n",
    "    x=Si['eV'],\n",
    "    y=Si[['e1', 'e2']],\n",
    "    functions=[form.TL for _ in range(3)],\n",
    "    functions_parameters_number=[5 for _ in range(3)],\n",
    "    bounds=[bound for _ in range(3) for bound in [(0.001, 500), (3,5), (0.001,3), (2,4), (0.5,2)]]\n",
    ")"
   ]
  },
  {
   "cell_type": "code",
   "execution_count": 20,
   "metadata": {},
   "outputs": [
    {
     "data": {
      "text/plain": [
       "(array([4.98219597e+02, 3.37789769e+00, 2.37070598e-01, 3.01729446e+00,\n",
       "        5.05605205e-01, 2.08894913e+02, 3.76978490e+00, 9.89859236e-01,\n",
       "        2.51636090e+00, 6.08195688e-01, 6.15050994e+01, 4.23609142e+00,\n",
       "        3.79184729e-01, 2.50515374e+00, 5.32112890e-01]),\n",
       " 0.28715569547592973)"
      ]
     },
     "execution_count": 20,
     "metadata": {},
     "output_type": "execute_result"
    }
   ],
   "source": [
    "Si_params, Si_loss"
   ]
  },
  {
   "cell_type": "code",
   "execution_count": 15,
   "metadata": {},
   "outputs": [],
   "source": [
    "visual.e_plot(\n",
    "    ph_energy=Si['eV'],\n",
    "    e1=Si['e1'],\n",
    "    e2=Si['e2']\n",
    ")"
   ]
  },
  {
   "cell_type": "code",
   "execution_count": 23,
   "metadata": {},
   "outputs": [],
   "source": [
    "visual.compare_results(\n",
    "    x_space=Si['eV'],\n",
    "    y_pred=us.multi_model(\n",
    "        Si_params,\n",
    "        Si['eV'],\n",
    "        [form.TL for _ in range(3)],\n",
    "        [5 for _ in range(3)]\n",
    "    ),\n",
    "    y_true=Si[['e1', 'e2']]\n",
    ")"
   ]
  },
  {
   "cell_type": "code",
   "execution_count": 8,
   "metadata": {},
   "outputs": [
    {
     "data": {
      "text/html": [
       "<div>\n",
       "<style scoped>\n",
       "    .dataframe tbody tr th:only-of-type {\n",
       "        vertical-align: middle;\n",
       "    }\n",
       "\n",
       "    .dataframe tbody tr th {\n",
       "        vertical-align: top;\n",
       "    }\n",
       "\n",
       "    .dataframe thead th {\n",
       "        text-align: right;\n",
       "    }\n",
       "</style>\n",
       "<table border=\"1\" class=\"dataframe\">\n",
       "  <thead>\n",
       "    <tr style=\"text-align: right;\">\n",
       "      <th></th>\n",
       "      <th>eV</th>\n",
       "      <th>e1</th>\n",
       "      <th>e2</th>\n",
       "    </tr>\n",
       "  </thead>\n",
       "  <tbody>\n",
       "    <tr>\n",
       "      <th>0</th>\n",
       "      <td>4.95</td>\n",
       "      <td>3.959499</td>\n",
       "      <td>5.979951</td>\n",
       "    </tr>\n",
       "    <tr>\n",
       "      <th>1</th>\n",
       "      <td>4.90</td>\n",
       "      <td>4.168708</td>\n",
       "      <td>6.052847</td>\n",
       "    </tr>\n",
       "    <tr>\n",
       "      <th>2</th>\n",
       "      <td>4.85</td>\n",
       "      <td>4.392638</td>\n",
       "      <td>6.116233</td>\n",
       "    </tr>\n",
       "    <tr>\n",
       "      <th>3</th>\n",
       "      <td>4.80</td>\n",
       "      <td>4.631594</td>\n",
       "      <td>6.168044</td>\n",
       "    </tr>\n",
       "    <tr>\n",
       "      <th>4</th>\n",
       "      <td>4.75</td>\n",
       "      <td>4.885654</td>\n",
       "      <td>6.205946</td>\n",
       "    </tr>\n",
       "  </tbody>\n",
       "</table>\n",
       "</div>"
      ],
      "text/plain": [
       "     eV        e1        e2\n",
       "0  4.95  3.959499  5.979951\n",
       "1  4.90  4.168708  6.052847\n",
       "2  4.85  4.392638  6.116233\n",
       "3  4.80  4.631594  6.168044\n",
       "4  4.75  4.885654  6.205946"
      ]
     },
     "execution_count": 8,
     "metadata": {},
     "output_type": "execute_result"
    }
   ],
   "source": [
    "TiO2 = pd.read_csv(os.path.join('..', 'resources', 'TiO2.csv'), sep='\\t', index_col=3).reset_index(drop=True)\n",
    "TiO2.head()"
   ]
  },
  {
   "cell_type": "code",
   "execution_count": 9,
   "metadata": {},
   "outputs": [
    {
     "data": {
      "text/plain": [
       "(array([261.35026378,   4.        ,   1.81904225,   3.39251031,\n",
       "          2.15898972]),\n",
       " 0.0361125643838852)"
      ]
     },
     "execution_count": 9,
     "metadata": {},
     "output_type": "execute_result"
    }
   ],
   "source": [
    "TiO2_params, TiO2_loss = us.fit_OC(\n",
    "    x=TiO2['eV'],\n",
    "    y=TiO2[['e1', 'e2']],\n",
    "    functions=[form.TL],\n",
    "    functions_parameters_number=[5],\n",
    "    bounds=[(0.001,1000), (4,7), (0.001,5), (3.2,3.5), (0,10)]\n",
    ")\n",
    "TiO2_params, TiO2_loss"
   ]
  },
  {
   "cell_type": "code",
   "execution_count": 10,
   "metadata": {},
   "outputs": [],
   "source": [
    "visual.e_plot(\n",
    "    ph_energy=TiO2['eV'],\n",
    "    e1=TiO2['e1'],\n",
    "    e2=TiO2['e2']\n",
    ")"
   ]
  },
  {
   "cell_type": "code",
   "execution_count": 11,
   "metadata": {},
   "outputs": [],
   "source": [
    "visual.compare_results(\n",
    "    x_space=TiO2['eV'],\n",
    "    y_pred=us.multi_model(\n",
    "        TiO2_params,\n",
    "        TiO2['eV'],\n",
    "        [form.TL for _ in range(1)],\n",
    "        [5 for _ in range(1)]\n",
    "    ),\n",
    "    y_true=TiO2[['e1', 'e2']]\n",
    ")"
   ]
  },
  {
   "cell_type": "code",
   "execution_count": 2,
   "metadata": {},
   "outputs": [
    {
     "data": {
      "text/html": [
       "<div>\n",
       "<style scoped>\n",
       "    .dataframe tbody tr th:only-of-type {\n",
       "        vertical-align: middle;\n",
       "    }\n",
       "\n",
       "    .dataframe tbody tr th {\n",
       "        vertical-align: top;\n",
       "    }\n",
       "\n",
       "    .dataframe thead th {\n",
       "        text-align: right;\n",
       "    }\n",
       "</style>\n",
       "<table border=\"1\" class=\"dataframe\">\n",
       "  <thead>\n",
       "    <tr style=\"text-align: right;\">\n",
       "      <th></th>\n",
       "      <th>um</th>\n",
       "      <th>n</th>\n",
       "      <th>k</th>\n",
       "    </tr>\n",
       "  </thead>\n",
       "  <tbody>\n",
       "    <tr>\n",
       "      <th>0</th>\n",
       "      <td>0.250505</td>\n",
       "      <td>1.396272</td>\n",
       "      <td>0.0</td>\n",
       "    </tr>\n",
       "    <tr>\n",
       "      <th>1</th>\n",
       "      <td>0.253061</td>\n",
       "      <td>1.394556</td>\n",
       "      <td>0.0</td>\n",
       "    </tr>\n",
       "    <tr>\n",
       "      <th>2</th>\n",
       "      <td>0.255670</td>\n",
       "      <td>1.392870</td>\n",
       "      <td>0.0</td>\n",
       "    </tr>\n",
       "    <tr>\n",
       "      <th>3</th>\n",
       "      <td>0.258333</td>\n",
       "      <td>1.391213</td>\n",
       "      <td>0.0</td>\n",
       "    </tr>\n",
       "    <tr>\n",
       "      <th>4</th>\n",
       "      <td>0.261053</td>\n",
       "      <td>1.389585</td>\n",
       "      <td>0.0</td>\n",
       "    </tr>\n",
       "  </tbody>\n",
       "</table>\n",
       "</div>"
      ],
      "text/plain": [
       "         um         n    k\n",
       "0  0.250505  1.396272  0.0\n",
       "1  0.253061  1.394556  0.0\n",
       "2  0.255670  1.392870  0.0\n",
       "3  0.258333  1.391213  0.0\n",
       "4  0.261053  1.389585  0.0"
      ]
     },
     "execution_count": 2,
     "metadata": {},
     "output_type": "execute_result"
    }
   ],
   "source": [
    "H2O = pd.read_csv(os.path.join('..', 'resources', 'H2O.csv'), sep='\\t', index_col=3).reset_index(drop=True)\n",
    "H2O.head()"
   ]
  },
  {
   "cell_type": "code",
   "execution_count": 3,
   "metadata": {},
   "outputs": [],
   "source": [
    "def Sellmeier(parameters, wavelength):\n",
    "    n = np.sqrt(1 + (parameters[0]*wavelength**2)/(wavelength**2 - parameters[1]) \n",
    "                + (parameters[2]*wavelength**2)/(wavelength**2 - parameters[3]))\n",
    "    return n"
   ]
  },
  {
   "cell_type": "code",
   "execution_count": 4,
   "metadata": {},
   "outputs": [
    {
     "data": {
      "text/plain": [
       "(array([0.18172696, 9.966888  , 0.75667304, 0.01285388]),\n",
       " 0.00012290401829242442)"
      ]
     },
     "execution_count": 4,
     "metadata": {},
     "output_type": "execute_result"
    }
   ],
   "source": [
    "H2O_params, H2O_loss = us.fit_OC(\n",
    "    x=H2O['um'],\n",
    "    y=H2O['n'],\n",
    "    functions=[Sellmeier],\n",
    "    functions_parameters_number=[4],\n",
    "    bounds=[(0.001,10), (0.001,10), (0.001,10), (0.001,10)]\n",
    ")\n",
    "H2O_params, H2O_loss"
   ]
  },
  {
   "cell_type": "code",
   "execution_count": 5,
   "metadata": {},
   "outputs": [],
   "source": [
    "visual.nk_plot(\n",
    "    wavelength=H2O['um'],\n",
    "    n=H2O['n']\n",
    ")"
   ]
  },
  {
   "cell_type": "code",
   "execution_count": 6,
   "metadata": {},
   "outputs": [],
   "source": [
    "visual.compare_results(\n",
    "    x_space=H2O['um'],\n",
    "    y_pred=Sellmeier(\n",
    "        parameters=H2O_params,\n",
    "        wavelength=H2O['um']),\n",
    "    y_true=H2O['n']\n",
    ")"
   ]
  }
 ],
 "metadata": {
  "kernelspec": {
   "display_name": "Python 3",
   "language": "python",
   "name": "python3"
  },
  "language_info": {
   "codemirror_mode": {
    "name": "ipython",
    "version": 3
   },
   "file_extension": ".py",
   "mimetype": "text/x-python",
   "name": "python",
   "nbconvert_exporter": "python",
   "pygments_lexer": "ipython3",
   "version": "3.12.4"
  }
 },
 "nbformat": 4,
 "nbformat_minor": 2
}
